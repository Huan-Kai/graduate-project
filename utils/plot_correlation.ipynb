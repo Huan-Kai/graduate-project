{
 "metadata": {
  "language_info": {
   "codemirror_mode": {
    "name": "ipython",
    "version": 3
   },
   "file_extension": ".py",
   "mimetype": "text/x-python",
   "name": "python",
   "nbconvert_exporter": "python",
   "pygments_lexer": "ipython3",
   "version": "3.8.6"
  },
  "orig_nbformat": 2,
  "kernelspec": {
   "name": "pythonjvsc74a57bd0d24ac8ac3a1a175d666f14156ac6d3dd31d85522ddb730d5faf0b7cbac845032",
   "display_name": "Python 3.8.6  ('ongoing-env': venv)"
  },
  "metadata": {
   "interpreter": {
    "hash": "d24ac8ac3a1a175d666f14156ac6d3dd31d85522ddb730d5faf0b7cbac845032"
   }
  }
 },
 "nbformat": 4,
 "nbformat_minor": 2,
 "cells": [
  {
   "cell_type": "code",
   "execution_count": 1,
   "metadata": {},
   "outputs": [],
   "source": [
    "import os\n",
    "import pyBigWig\n",
    "from dataset import Dataset\n",
    "HMs = [\"H3K4me3\", \"H3K27ac\", \"H3K4me1\", \"H3K36me3\", \"H3K9me3\", \"H3K27me3\"]\n",
    "\n",
    "import numpy as np\n",
    "import pandas as pd\n",
    "import seaborn as snst\n",
    "import matplotlib.pyplot as plt\n",
    "\n",
    "biosample = \"A549\"\n",
    "dataset_dir = \"../dataset/new/\".format(biosample)\n",
    "bin_size = 1000"
   ]
  },
  {
   "cell_type": "code",
   "execution_count": 2,
   "metadata": {},
   "outputs": [],
   "source": [
    "def convertInputFormat(dataset):\n",
    "    df_input = dict([(HM, []) for HM in HMs])\n",
    "    for HM in HMs:\n",
    "        for ith in list(range(1,23))+[\"X\"]:\n",
    "            df_input[HM] += dataset.signals[HM][\"chr\"+str(ith)]\n",
    "\n",
    "    return pd.DataFrame(df_input)\n",
    "\n",
    "def plotAndSave(df, path):\n",
    "    fig, axs = plt.subplots(1, 3, figsize=(20, 5))\n",
    "    corr_types = [\"pearson\", \"spearman\", \"kendall\"]\n",
    "    for ith, corr_type in enumerate(corr_types):\n",
    "        axs[ith].set_title(corr_type, fontsize=15)\n",
    "        if ith == 0:\n",
    "            sns.heatmap(df.corr(method=corr_type), vmin=-1, vmax=1, ax=axs[ith], annot=True)\n",
    "        else:\n",
    "            sns.heatmap(df.corr(method=corr_type), vmin=-1, vmax=1, ax=axs[ith], annot=True, yticklabels=False)\n",
    "\n",
    "    fig.suptitle(\"Bin size : 1000\", fontsize=15, x=0.5, y=-0.1)\n",
    "    fig.savefig(path)"
   ]
  },
  {
   "cell_type": "code",
   "execution_count": 22,
   "metadata": {},
   "outputs": [],
   "source": [
    "# Initialize\n",
    "datasets = dict()\n",
    "biosamples = os.listdir(dataset_dir)\n",
    "\n",
    "for biosample in biosamples:\n",
    "    dataset = Dataset(biosample, dataset_dir+biosample+\"/\", bin_size)\n",
    "    dataset.mp_preprocess()\n",
    "    datasets[biosample] = dataset.signals\n",
    "        \n",
    "    try:\n",
    "        df = convertInputFormat(dataset)\n",
    "        path = dataset_dir + \"{}/correlation_HMs.png\".format(biosample)\n",
    "        plotAndSave(df, path)\n",
    "        datasets[biosample] = dataset.signals.copy()\n",
    "    except:\n",
    "        print(\"{} --- ERROR\".format(biosample))"
   ]
  },
  {
   "cell_type": "code",
   "execution_count": 7,
   "metadata": {},
   "outputs": [
    {
     "output_type": "stream",
     "name": "stdout",
     "text": [
      "['naive thymus-derived CD4-positive, alpha-beta T cell', 'osteoblast', 'CD8-positive, alpha-beta T cell', 'fibroblast of dermis', 'mammary epithelial cell', 'activated T-cell', 'foreskin melanocyte', 'fibroblast of lung', 'foreskin fibroblast', 'common myeloid progenitor, CD34-positive', 'T-helper 17 cell', 'peripheral blood mononuclear cell', 'neutrophil', 'neurosphere', 'natural killer cell', 'CD4-positive, alpha-beta T cell', 'naive thymus-derived CD8-positive, alpha-beta T cell', 'effector memory CD4-positive, alpha-beta T cell', 'fibroblast of breast', 'B cell', 'CD8-positive, alpha-beta memory T cell', 'CD4-positive, CD25-positive, alpha-beta regulatory T cell', 'immature natural killer cell', 'astrocyte', 'endothelial cell of umbilical vein', 'CD4-positive, alpha-beta memory T cell', 'keratinocyte', 'foreskin keratinocyte', 'skeletal muscle myoblast', 'T-cell', 'CD14-positive monocyte']\n"
     ]
    }
   ],
   "source": [
    "biosamples = os.listdir(\"dataset/primary cell\")\n",
    "print(biosamples)"
   ]
  },
  {
   "cell_type": "code",
   "execution_count": 12,
   "metadata": {},
   "outputs": [],
   "source": [
    "biosample_signal_pair = dict([(biosample, []) for biosample in biosamples])\n",
    "for biosample in biosamples:\n",
    "    for HM in HMs:\n",
    "        for ith in list(range(1,23))+[\"X\"]:\n",
    "            biosample_signal_pair[biosample] += datasets[biosample][HM][\"chr\"+str(ith)]"
   ]
  },
  {
   "cell_type": "code",
   "execution_count": 18,
   "metadata": {},
   "outputs": [],
   "source": [
    "df = pd.DataFrame(biosample_signal_pair)\n",
    "del biosample_signal_pair"
   ]
  },
  {
   "cell_type": "code",
   "execution_count": 23,
   "metadata": {},
   "outputs": [],
   "source": [
    "fig = plt.figure(figsize=(30,20))\n",
    "temp = sns.heatmap(df.corr(method=\"kendall\"), vmin=-1, vmax=1)\n",
    "temp.axes.set_title(\"Kendall\", fontsize=40)\n",
    "temp.set_xlabel(\"Bin size : 1000\", fontsize=30)\n",
    "# fig.savefig(\"dataset/primary cell/corr_biosample.png\")"
   ]
  }
 ]
}