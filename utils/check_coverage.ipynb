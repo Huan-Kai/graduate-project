{
 "cells": [
  {
   "cell_type": "code",
   "execution_count": 1,
   "metadata": {},
   "outputs": [],
   "source": [
    "import pyBigWig\n",
    "dnase_path = \"/home/huan/Documents/Ongoing/dataset/new/A549/dnase/ENCFF807KKL.bigBed\"\n",
    "meth_path = \"/home/huan/Documents/Ongoing/dataset/new/A549/methylation/ENCFF188EKT.bigBed\"\n",
    "bb = pyBigWig.open(meth_path)"
   ]
  },
  {
   "cell_type": "code",
   "execution_count": 2,
   "metadata": {},
   "outputs": [
    {
     "output_type": "execute_result",
     "data": {
      "text/plain": [
       "b'table bedMethyl\\n\"BED9+2  Number of reads + percent methylation\"\\n    (\\n    string chrom;      \"Reference chromosome or scaffold\"\\n    uint   chromStart; \"Start position in chromosome\"\\n    uint   chromEnd;   \"End position in chromosome\"\\n    string name;       \"Name of item\"\\n    uint   score;      \"Score from 0-1000. Capped number of reads\"\\n    char[1] strand;    \"+ or - or . for unknown\"\\n    uint thickStart;   \"Start of where display should be thick (start codon)\"\\n    uint thickEnd;     \"End of where display should be thick (stop codon)\"\\n    uint reserved;     \"Color value R,G,B\"\\n    uint readCount;    \"Number of reads or coverage\"\\n    uint percentMeth;  \"Percentage of reads that show methylation at this position in the genome\"\\n    )\\n'"
      ]
     },
     "metadata": {},
     "execution_count": 2
    }
   ],
   "source": [
    "bb.SQL()"
   ]
  },
  {
   "cell_type": "code",
   "execution_count": 3,
   "metadata": {},
   "outputs": [
    {
     "output_type": "stream",
     "name": "stdout",
     "text": [
      "chr1 done chr2 done chr3 done chr4 done chr5 done chr6 done chr7 done chr8 done chr9 done chr10 done chr11 done chr12 done chr13 done chr14 done chr15 done chr16 done chr17 done chr18 done chr19 done chr20 done chr21 done chr22 done chrX done \n\n[2391423, 2197698, 1626736, 1258527, 1507115, 1525721, 1399393, 1278176, 1176138, 1299440, 1307337, 1561706, 611510, 880500, 940091, 881189, 1346287, 532559, 1114396, 793805, 265385, 464525, 875918]\nSummation : 27235575\n"
     ]
    }
   ],
   "source": [
    "# Dnase\n",
    "chrom_counts = []\n",
    "for ith in list(range(1,23))+[\"X\"]:\n",
    "    chr_ith = \"chr\"+str(ith)\n",
    "    chrom_count = 0\n",
    "    for entry in bb.entries(chr_ith, 0, bb.chroms(chr_ith)):\n",
    "        diff = int(entry[1])-int(entry[0])\n",
    "        chrom_count += diff\n",
    "    chrom_counts.append(chrom_count)\n",
    "    print(chr_ith, \"done\", end=\" \")\n",
    "print(\"\\n\")\n",
    "print(chrom_counts)\n",
    "print(\"Summation :\", sum(chrom_counts))"
   ]
  },
  {
   "cell_type": "code",
   "execution_count": 3,
   "metadata": {},
   "outputs": [
    {
     "output_type": "stream",
     "name": "stdout",
     "text": [
      "chr1 done chr2 done chr3 done chr4 done chr5 done chr6 done chr7 done chr8 done chr9 done chr10 done chr11 done chr12 done chr13 done chr14 done chr15 done chr16 done chr17 done chr18 done chr19 done chr20 done chr21 done chr22 done chrX done \n",
      "\n",
      "[3595262, 3488563, 2585177, 2272263, 2349184, 2342001, 2455520, 2007739, 1888015, 2119136, 1975382, 2093726, 1258032, 1336504, 1369238, 1665343, 1948659, 1047100, 1574091, 1176616, 526485, 883813, 1624200]\n",
      "Summation : 43582049\n"
     ]
    }
   ],
   "source": [
    "# Meth\n",
    "chrom_counts = []\n",
    "for ith in list(range(1,23))+[\"X\"]:\n",
    "    chr_ith = \"chr\"+str(ith)\n",
    "    chrom_count = 0\n",
    "    for entry in bb.entries(chr_ith, 0, bb.chroms(chr_ith)):\n",
    "        if int(entry[2].split(\"\\t\")[-1]) > 0:\n",
    "            chrom_count += 1\n",
    "    chrom_counts.append(chrom_count)\n",
    "    print(chr_ith, \"done\", end=\" \")\n",
    "print(\"\\n\")\n",
    "print(chrom_counts)\n",
    "print(\"Summation :\", sum(chrom_counts))"
   ]
  }
 ],
 "metadata": {
  "kernelspec": {
   "name": "pythonjvsc74a57bd0d24ac8ac3a1a175d666f14156ac6d3dd31d85522ddb730d5faf0b7cbac845032",
   "display_name": "Python 3.8.6  ('ongoing-env': venv)"
  },
  "language_info": {
   "codemirror_mode": {
    "name": "ipython",
    "version": 3
   },
   "file_extension": ".py",
   "mimetype": "text/x-python",
   "name": "python",
   "nbconvert_exporter": "python",
   "pygments_lexer": "ipython3",
   "version": "3.8.6"
  },
  "metadata": {
   "interpreter": {
    "hash": "d24ac8ac3a1a175d666f14156ac6d3dd31d85522ddb730d5faf0b7cbac845032"
   }
  }
 },
 "nbformat": 4,
 "nbformat_minor": 2
}