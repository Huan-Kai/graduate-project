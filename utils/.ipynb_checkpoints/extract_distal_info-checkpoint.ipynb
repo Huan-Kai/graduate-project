{
 "cells": [
  {
   "cell_type": "code",
   "execution_count": 1,
   "metadata": {},
   "outputs": [],
   "source": [
    "import os\n",
    "import pickle\n",
    "import pyBigWig\n",
    "import numpy as np\n",
    "from tqdm import tqdm\n",
    "\n",
    "dataset_dir = \"../dataset/new/\"\n",
    "biosamples = [\"A549\", \"GM12878\", \"K562\"]\n",
    "HMs = [\"H3K4me3\", \"H3K27ac\", \"H3K4me1\", \"H3K36me3\", \"H3K9me3\", \"H3K27me3\"]\n",
    "\n",
    "biosample = biosamples[1]\n",
    "center_hm = HMs[0]"
   ]
  },
  {
   "cell_type": "code",
   "execution_count": 2,
   "metadata": {},
   "outputs": [],
   "source": [
    "class CorrHmAndHm():\n",
    "    def __init__(self, biosample, center_hm, other_hm, dataset_dir, info_lengths=[100, 1000, 10000]):\n",
    "        self.biosample = biosample\n",
    "        self.dataset_dir = dataset_dir\n",
    "        self.info_lengths = info_lengths\n",
    "\n",
    "        self.center_bw = self.getDataset(center_hm)\n",
    "        self.other_bw = self.getDataset(other_hm)\n",
    "        # self.center_mean, self.center_std = self.getMeanAndStd(self.center_bw)\n",
    "        # self.other_mean, self.other_std = self.getMeanAndStd(self.other_bw)\n",
    "        self.all_info = self.initialize()\n",
    "        \n",
    "    def getBigWigFile(self, path):\n",
    "        for f in os.listdir(path):\n",
    "            if f[-1] == \"g\":\n",
    "                return f\n",
    "\n",
    "    def getDataset(self, hm):\n",
    "        dataset_path = self.dataset_dir + \"{}/{}/\".format(self.biosample, hm)\n",
    "        dataset_path += self.getBigWigFile(dataset_path)\n",
    "        bw = pyBigWig.open(dataset_path)\n",
    "        return bw\n",
    "\n",
    "    def getMeanAndStd(self, bw):\n",
    "        print(\"Extract mean and std ......\")\n",
    "        whole_chr_signal = bw.values(\"chr1\", 0, bw.chroms()[\"chr1\"], numpy=True)\n",
    "        whole_chr_signal[np.isnan(whole_chr_signal)] = 0\n",
    "        chr_mean = np.mean(whole_chr_signal)\n",
    "        chr_std = np.std(whole_chr_signal)\n",
    "        return chr_mean, chr_std\n",
    "\n",
    "    def initialize(self):\n",
    "        temp = [(\"center\", [])]\n",
    "        for info_length in self.info_lengths:\n",
    "            for ith in range(1, 11):\n",
    "                temp.append((\"{}_{}_{}\".format(str(info_length//2), \"r\", ith), []))\n",
    "                temp.append((\"{}_{}_{}\".format(str(info_length//2), \"l\", ith), []))\n",
    "        return dict(temp)\n",
    "\n",
    "    def checkNan(self, signal):\n",
    "        status = np.isnan(signal)\n",
    "        if any(status):\n",
    "            signal[np.isnan(signal)] = 0\n",
    "        return signal\n",
    "\n",
    "    def extract(self, center_idx):\n",
    "        signal = self.checkNan(self.center_bw.values(\"chr1\", center_idx, center_idx+1))[0]\n",
    "        # signal = (signal-self.center_mean) / self.center_std\n",
    "        self.all_info[\"center\"].append(signal)\n",
    "\n",
    "        for idx in range(len(self.info_lengths)):\n",
    "            current_info = str(self.info_lengths[idx]//2)\n",
    "            shift = sum(self.info_lengths[:idx])//2 if idx != 0 else 0\n",
    "            bin_size = (self.info_lengths[idx]//2) // 10\n",
    "\n",
    "            for ith in range(10):\n",
    "                start, end = center_idx-shift-bin_size*(ith+1), center_idx-shift-bin_size*ith \n",
    "                signal = self.checkNan(self.other_bw.values(\"chr1\", start, end, numpy=True))\n",
    "                # signal = (signal-self.other_mean) / self.other_std\n",
    "                self.all_info[\"{}_{}_{}\".format(current_info, \"r\", ith+1)].append(np.mean(signal))\n",
    "\n",
    "                start, end = (center_idx+1)+shift+bin_size*ith, (center_idx+1)+shift+bin_size*(ith+1)\n",
    "                signal = self.checkNan(self.other_bw.values(\"chr1\", start, end, numpy=True))\n",
    "                # signal = (signal-self.other_mean) / self.other_std\n",
    "                self.all_info[\"{}_{}_{}\".format(current_info, \"l\", ith+1)].append(np.mean(signal))"
   ]
  },
  {
   "cell_type": "code",
   "execution_count": 3,
   "metadata": {
    "tags": []
   },
   "outputs": [
    {
     "name": "stdout",
     "output_type": "stream",
     "text": [
      "Extract mean and std ......\n",
      "Extract mean and std ......\n",
      "Extract GM12878 : H3K4me3 to H3K27ac : 100%|██████████| 24894/24894 [17:05<00:00, 24.29it/s] \n"
     ]
    }
   ],
   "source": [
    "for i in range(6):\n",
    "    other_hm = HMs[i]\n",
    "\n",
    "    distal = CorrHmAndHm(biosample, center_hm, other_hm, dataset_dir)\n",
    "    progress_bar = tqdm(range(10000, 248956422-10000,10000))\n",
    "    progress_bar.set_description(\"Extract {} : {} to {} \".format(biosample, center_hm, other_hm))\n",
    "    for center_idx in progress_bar:\n",
    "        distal.extract(center_idx)\n",
    "\n",
    "    with open(dataset_dir + \"buffer/{}_{}_{}_distal_info.pkl\".format(biosample, center_hm, other_hm), \"wb\") as f:\n",
    "        pickle.dump(distal.all_info, f)"
   ]
  },
  {
   "cell_type": "code",
   "execution_count": null,
   "metadata": {},
   "outputs": [],
   "source": [
    "with open(dataset_dir + \"buffer/{}_{}_{}_distal_info.pkl\".format(biosample, center_hm, other_hm), \"wb\") as f:\n",
    "    pickle.dump(distal.all_info, f)"
   ]
  }
 ],
 "metadata": {
  "kernelspec": {
   "display_name": "Python 3",
   "language": "python",
   "name": "python3"
  },
  "language_info": {
   "codemirror_mode": {
    "name": "ipython",
    "version": 3
   },
   "file_extension": ".py",
   "mimetype": "text/x-python",
   "name": "python",
   "nbconvert_exporter": "python",
   "pygments_lexer": "ipython3",
   "version": "3.8.6"
  }
 },
 "nbformat": 4,
 "nbformat_minor": 2
}
