{
 "metadata": {
  "language_info": {
   "codemirror_mode": {
    "name": "ipython",
    "version": 3
   },
   "file_extension": ".py",
   "mimetype": "text/x-python",
   "name": "python",
   "nbconvert_exporter": "python",
   "pygments_lexer": "ipython3",
   "version": "3.8.6-final"
  },
  "orig_nbformat": 2,
  "kernelspec": {
   "name": "python3",
   "display_name": "Python 3.8.6 64-bit ('ongoing-env': venv)",
   "metadata": {
    "interpreter": {
     "hash": "d24ac8ac3a1a175d666f14156ac6d3dd31d85522ddb730d5faf0b7cbac845032"
    }
   }
  }
 },
 "nbformat": 4,
 "nbformat_minor": 2,
 "cells": [
  {
   "cell_type": "code",
   "execution_count": 1,
   "metadata": {},
   "outputs": [],
   "source": [
    "import pandas as pd\n",
    "import pyBigWig\n",
    "import numpy as np\n",
    "from tqdm import tqdm\n",
    "\n",
    "import os\n",
    "import time\n",
    "import multiprocessing as mp"
   ]
  },
  {
   "cell_type": "code",
   "execution_count": 2,
   "metadata": {},
   "outputs": [],
   "source": [
    "column_name = [\"biosample\"]\n",
    "HMs = [\"H3K4me3\", \"H3K27ac\", \"H3K4me1\", \"H3K36me3\", \"H3K9me3\", \"H3K27me3\"]\n",
    "\n",
    "for HM in HMs:\n",
    "    for ith in list(range(1,23))+[\"X\"]:\n",
    "        column_name.append(\"{}_{}\".format(HM, \"chr\"+str(ith)))\n",
    "\n",
    "ref_row = []\n",
    "bw = pyBigWig.open(\"dataset/cell line/A549/H3K4me3/ENCFF006GYA.bigWig\")\n",
    "for ith in list(range(1,23))+[\"X\"]:\n",
    "    ref_row.append(bw.chroms()[\"chr\"+str(ith)])\n",
    "\n",
    "ref_row *= 6\n",
    "ref_row.insert(0, \"reference\")\n",
    "df = pd.DataFrame(data=[ref_row], columns=column_name)"
   ]
  },
  {
   "cell_type": "code",
   "execution_count": 3,
   "metadata": {},
   "outputs": [],
   "source": [
    "class Dataset():\n",
    "    def __init__(self, name, dataset_path, bin_size):\n",
    "        initial = dict([(\"chr\"+str(ith),[]) for ith in list(range(1,23))+[\"X\"]])\n",
    "        self.HMs = [\"H3K4me3\", \"H3K27ac\", \"H3K4me1\", \"H3K36me3\", \"H3K9me3\", \"H3K27me3\"]\n",
    "\n",
    "        self.name = name\n",
    "        self.bin_size = bin_size\n",
    "        self.path = dataset_path\n",
    "        self.nan_count = mp.Manager().list()\n",
    "        self.signals = dict([(HM, initial.copy())for HM in self.HMs])\n",
    "\n",
    "        ######## Automatic do processing code\n",
    "        self.preprocess()\n",
    "\n",
    "    def getDatasetPath(self, HM):\n",
    "        dataset_path = self.path + HM + \"/\"\n",
    "        dataset_path += os.listdir(dataset_path)[0]\n",
    "        return dataset_path\n",
    "\n",
    "    def ruleOfFill(self, idx, signal):\n",
    "        # Check if first position is nan\n",
    "        if (idx == 0) and np.isnan(signal[idx+1]):\n",
    "            return 0\n",
    "        elif (idx == 0) and (not np.isnan(signal[idx+1])):\n",
    "            return signal[idx+1]\n",
    "        # Check if final position or next postion is nan\n",
    "        elif (idx == (len(signal)-1)) or (np.isnan(signal[idx+1])):\n",
    "            return signal[idx-1]\n",
    "        # If previous and next position are not nan, sum these values and average\n",
    "        else:\n",
    "            return (signal[idx-1]+signal[idx+1]) / 2\n",
    "\n",
    "    def processMissingValue(self, signal):\n",
    "        count = 0\n",
    "        if not all(signal == signal):\n",
    "            for idx in range(len(signal)):\n",
    "                if np.isnan(signal[idx]):\n",
    "                    count += 1\n",
    "        return count\n",
    "\n",
    "    def getBinSignalValuePerChrom(self, HM, chr_ith):\n",
    "        # Becasue bigwigfile object cannot be pickled, we just open dataset in each processes\n",
    "        bw = pyBigWig.open(self.getDatasetPath(HM))\n",
    "        chr_len = bw.chroms()[chr_ith]\n",
    "        total_count = 0\n",
    "\n",
    "        for end_idx in range(self.bin_size, chr_len, self.bin_size):\n",
    "            start_idx = end_idx - self.bin_size\n",
    "            raw_signal = bw.values(chr_ith, start_idx, end_idx, numpy=True)\n",
    "            count = self.processMissingValue(raw_signal)\n",
    "            total_count += count\n",
    "        else:\n",
    "            raw_signal = bw.values(chr_ith, end_idx, chr_len, numpy=True)\n",
    "            count = self.processMissingValue(raw_signal)\n",
    "\n",
    "            self.nan_count.append((HM+\"_\"+chr_ith, total_count+count))\n",
    "            # print(\"--- {} finished\".format(chr_ith))\n",
    "\n",
    "    def preprocess(self):\n",
    "        for HM in self.HMs:\n",
    "            pool = mp.Pool()\n",
    "            args = [(HM, \"chr\"+str(ith)) for ith in list(range(1,23))+[\"X\"]]\n",
    "            pool.starmap_async(self.getBinSignalValuePerChrom, args)\n",
    "\n",
    "            # Prevents any more tasks from being submitted to the pool.\n",
    "            # Once all the tasks have been completed the worker processes will exit.\n",
    "            pool.close()\n",
    "            # Wait for the worker processes to exit.\n",
    "            # One must call close() or terminate() before using join() .\n",
    "            pool.join()\n",
    "\n",
    "            # print(\"--- {} finished\".format(HM))"
   ]
  },
  {
   "cell_type": "code",
   "execution_count": 4,
   "metadata": {},
   "outputs": [
    {
     "output_type": "stream",
     "name": "stdout",
     "text": [
      "62\n"
     ]
    }
   ],
   "source": [
    "biosamples = os.listdir(\"dataset/tissue\")\n",
    "print(len(biosamples))"
   ]
  },
  {
   "cell_type": "code",
   "execution_count": 5,
   "metadata": {},
   "outputs": [
    {
     "output_type": "stream",
     "name": "stderr",
     "text": [
      "Processing esophagus: 100%|██████████| 62/62 [1:18:49<00:00, 76.28s/it]\n"
     ]
    }
   ],
   "source": [
    "tqdm_bar = tqdm(biosamples)\n",
    "for biosample in tqdm_bar:\n",
    "    tqdm_bar.set_description(\"Processing {}\".format(biosample))\n",
    "    data_object = Dataset(biosample, \"dataset/tissue/{}/\".format(biosample), 100000)\n",
    "    new_row = dict(data_object.nan_count)\n",
    "    new_row[\"biosample\"] = biosample\n",
    "    df = df.append(new_row, ignore_index=True)"
   ]
  },
  {
   "cell_type": "code",
   "execution_count": 7,
   "metadata": {},
   "outputs": [],
   "source": [
    "df.to_excel(\"dataset/tissue/nan_count.xlsx\", index=False, header=True)"
   ]
  }
 ]
}