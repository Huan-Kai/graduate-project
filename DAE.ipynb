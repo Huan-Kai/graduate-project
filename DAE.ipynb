{
 "cells": [
  {
   "cell_type": "code",
   "execution_count": null,
   "metadata": {},
   "outputs": [],
   "source": [
    "# TODO : Normalize\n",
    "# TODO : Convolution + Deconvolution"
   ]
  },
  {
   "cell_type": "code",
   "execution_count": 1,
   "metadata": {},
   "outputs": [
    {
     "name": "stdout",
     "output_type": "stream",
     "text": [
      "Current computational resource : cuda\n"
     ]
    }
   ],
   "source": [
    "import pickle\n",
    "import numpy as np\n",
    "from tqdm import tqdm\n",
    "HMs = [\"H3K4me3\", \"H3K27ac\", \"H3K4me1\", \"H3K36me3\"] # Histone modification\n",
    "\n",
    "import torch\n",
    "import torch.nn as nn\n",
    "import torch.optim as optim\n",
    "from torch.utils.data import Dataset, DataLoader\n",
    "from torch.autograd import Variable\n",
    "\n",
    "device = 'cuda' if torch.cuda.is_available() else 'cpu'\n",
    "print(\"Current computational resource :\", device)"
   ]
  },
  {
   "cell_type": "code",
   "execution_count": 2,
   "metadata": {},
   "outputs": [],
   "source": [
    "class NoisedDataset(Dataset):\n",
    "    def __init__(self, biosamples, dataset_dir, run_type):\n",
    "        amount = 100 if run_type == \"train\" else 20\n",
    "        x_data = np.zeros((amount*3, 4, 248957), dtype=np.float32)\n",
    "        y_data = np.zeros((amount*3, 4, 248957), dtype=np.float32)\n",
    "\n",
    "        for ith, biosample in enumerate(biosamples, start=1):\n",
    "            path = dataset_dir + biosample + \"/{}.pkl\".format(biosample)\n",
    "            with open(path, \"rb\") as f:\n",
    "                dataset = pickle.load(f)\n",
    "\n",
    "            clean_signal = np.array([dataset[HM][\"chr1\"] for HM in HMs])\n",
    "            x_data[(ith-1)*amount: ith*amount] = self.generateNoisedData(clean_signal, amount)\n",
    "            y_data[(ith-1)*amount: ith*amount] = np.tile(clean_signal, (amount,1,1))\n",
    "\n",
    "        self.x_tensor = torch.from_numpy(x_data)\n",
    "        self.y_tensor = torch.from_numpy(y_data)\n",
    "        \n",
    "    def __getitem__(self, index):\n",
    "        return (self.x_tensor[index], self.y_tensor[index])\n",
    "\n",
    "    def __len__(self):\n",
    "        return len(self.x_tensor)\n",
    "\n",
    "    def generateNoisedData(self, clean_signal, amount, mean=0, std=5):\n",
    "        clean_signals = np.tile(clean_signal, (amount,1,1))\n",
    "        noise = np.random.normal(mean, std, size=(clean_signals.shape))\n",
    "        \n",
    "        return clean_signals + noise"
   ]
  },
  {
   "cell_type": "code",
   "execution_count": 3,
   "metadata": {},
   "outputs": [],
   "source": [
    "class DenoisingModel(nn.Module):\n",
    "    def __init__(self):\n",
    "        super(DenoisingModel,self).__init__()\n",
    "        self.dense = nn.Sequential()\n",
    "\n",
    "        self.dense.add_module(\"dense1\", nn.Linear(4*248957,256))\n",
    "        self.dense.add_module(\"relu1\", nn.ReLU())\n",
    "        self.dense.add_module(\"dense2\", nn.Linear(256,128))\n",
    "        self.dense.add_module(\"relu2\", nn.ReLU())\n",
    "        self.dense.add_module(\"dense3\", nn.Linear(128,64))\n",
    "        self.dense.add_module(\"relu3\", nn.ReLU())\n",
    "        self.dense.add_module(\"dense4\", nn.Linear(64,128))\n",
    "        self.dense.add_module(\"relu4\", nn.ReLU())\n",
    "        self.dense.add_module(\"dense5\", nn.Linear(128,256))\n",
    "        self.dense.add_module(\"relu5\", nn.ReLU())\n",
    "        self.dense.add_module(\"dense6\", nn.Linear(256,4*248957))\n",
    "        self.dense.add_module(\"relu6\", nn.Sigmoid())\n",
    "    \n",
    "    def forward(self,x):\n",
    "        x = self.dense(x)\n",
    "\n",
    "        return x"
   ]
  },
  {
   "cell_type": "code",
   "execution_count": 4,
   "metadata": {},
   "outputs": [],
   "source": [
    "category = \"cell line\"\n",
    "biosamples = [\"A549\", \"H1\", \"H9\"]\n",
    "dataset_dir = \"dataset/{}/\".format(category)\n",
    "\n",
    "np.random.seed(52)\n",
    "train_set = NoisedDataset(biosamples, dataset_dir, run_type=\"train\")\n",
    "test_set = NoisedDataset(biosamples, dataset_dir, run_type=\"test\")\n",
    "train_loader = DataLoader(train_set, batch_size=30, shuffle=True)\n",
    "test_loader = DataLoader(test_set, batch_size=10, shuffle=True)"
   ]
  },
  {
   "cell_type": "code",
   "execution_count": 5,
   "metadata": {},
   "outputs": [
    {
     "data": {
      "text/plain": [
       "DenoisingModel(\n",
       "  (dense): Sequential(\n",
       "    (dense1): Linear(in_features=995828, out_features=256, bias=True)\n",
       "    (relu1): ReLU()\n",
       "    (dense2): Linear(in_features=256, out_features=128, bias=True)\n",
       "    (relu2): ReLU()\n",
       "    (dense3): Linear(in_features=128, out_features=64, bias=True)\n",
       "    (relu3): ReLU()\n",
       "    (dense4): Linear(in_features=64, out_features=128, bias=True)\n",
       "    (relu4): ReLU()\n",
       "    (dense5): Linear(in_features=128, out_features=256, bias=True)\n",
       "    (relu5): ReLU()\n",
       "    (dense6): Linear(in_features=256, out_features=995828, bias=True)\n",
       "    (relu6): Sigmoid()\n",
       "  )\n",
       ")"
      ]
     },
     "execution_count": 5,
     "metadata": {},
     "output_type": "execute_result"
    }
   ],
   "source": [
    "model = DenoisingModel().to(device)\n",
    "model.train()"
   ]
  },
  {
   "cell_type": "code",
   "execution_count": 6,
   "metadata": {
    "tags": []
   },
   "outputs": [
    {
     "name": "stderr",
     "output_type": "stream",
     "text": [
      "Current loss : 1923.6422119140625: 100%|██████████| 10/10 [00:01<00:00,  5.78it/s]\n",
      "Current loss : 2189.42626953125: 100%|██████████| 10/10 [00:01<00:00,  6.36it/s]\n",
      "Current loss : 1909.4498291015625: 100%|██████████| 10/10 [00:01<00:00,  6.43it/s]\n",
      "Current loss : 1241.249755859375: 100%|██████████| 10/10 [00:01<00:00,  6.38it/s]\n",
      "Current loss : 838.9619750976562: 100%|██████████| 10/10 [00:01<00:00,  6.46it/s]\n"
     ]
    }
   ],
   "source": [
    "\n",
    "epochs = 5\n",
    "\n",
    "for epoch in range(epochs):\n",
    "    progress_bar = tqdm(train_loader)\n",
    "    for x, y in progress_bar:\n",
    "        x = x.view(x.size(0),-1).to(device)\n",
    "        y = y.view(y.size(0),-1).to(device)\n",
    "        \n",
    "        pred = model(x)\n",
    "        loss = criterion(y, pred)\n",
    "\n",
    "        optimizer.zero_grad()\n",
    "        loss.backward()\n",
    "        optimizer.step()\n",
    "\n",
    "        progress_bar.set_description(\"Current loss : {}\".format(loss))\n"
   ]
  },
  {
   "cell_type": "code",
   "execution_count": null,
   "metadata": {},
   "outputs": [],
   "source": []
  }
 ],
 "metadata": {
  "kernelspec": {
   "display_name": "Python 3",
   "language": "python",
   "name": "python3"
  },
  "language_info": {
   "codemirror_mode": {
    "name": "ipython",
    "version": 3
   },
   "file_extension": ".py",
   "mimetype": "text/x-python",
   "name": "python",
   "nbconvert_exporter": "python",
   "pygments_lexer": "ipython3",
   "version": "3.8.6"
  }
 },
 "nbformat": 4,
 "nbformat_minor": 2
}